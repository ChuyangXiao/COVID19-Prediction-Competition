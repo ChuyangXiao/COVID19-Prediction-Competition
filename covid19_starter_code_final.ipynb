{
 "cells": [
  {
   "cell_type": "markdown",
   "metadata": {
    "id": "view-in-github"
   },
   "source": [
    "<a href=\"https://colab.research.google.com/github/WALLERR/Covid-19-Infection-Percentage-Estimation/blob/main/covid19_code_final.ipynb\" target=\"_parent\"><img src=\"https://colab.research.google.com/assets/colab-badge.svg\" alt=\"Open In Colab\"/></a>"
   ]
  },
  {
   "cell_type": "markdown",
   "metadata": {
    "id": "ihsR_ew8QNCr"
   },
   "source": [
    "# COVID-19 Prediction"
   ]
  },
  {
   "cell_type": "markdown",
   "metadata": {
    "id": "OAKefO7DSUwH"
   },
   "source": [
    "Since late 2019, the world been in health crisis because of the COVID-19 pandemic. In fact, using Medical Imagery has proved to be efficient in detecting Covid-19 Infection. These Medical Imaging include: X-ray, CT-scans and Ultrasounds. The use of CT-scans is not only limited to the detection of COVID-19 cases, but they can also be used for other important tasks such quantifying the infection and monitoring the evolution of the disease, which can help in treatment and save the patient’s life. In this challenge, the participants will use a dataset labelled by two expert radiologists, who estimated the Covid-19 infection, to train and validate their approaches. In the testing phase, participants will test their approaches using a test dataset collected from various CT-scanners and recording settings."
   ]
  },
  {
   "cell_type": "markdown",
   "metadata": {
    "id": "C1SUlbVIQbXx"
   },
   "source": [
    "- In your google drive, create a folder called \"DL_Project\"\n",
    "- Place this .ipynb notebook in that folder\n",
    "- Upload the training & val dataset zip in that folder\n",
    "- Only have to do this once the very first time you are setting up project"
   ]
  },
  {
   "cell_type": "code",
   "execution_count": null,
   "metadata": {
    "colab": {
     "base_uri": "https://localhost:8080/"
    },
    "id": "_Ycwr5g60RUs",
    "outputId": "e57a05c6-291f-44c4-b729-bc8b4bcf06ba"
   },
   "outputs": [
    {
     "name": "stdout",
     "output_type": "stream",
     "text": [
      "Mounted at /content/drive\n"
     ]
    }
   ],
   "source": [
    "## mount google drive\n",
    "from google.colab import drive\n",
    "drive.mount('/content/drive')"
   ]
  },
  {
   "cell_type": "code",
   "execution_count": null,
   "metadata": {
    "id": "QP8GYguxqzLy"
   },
   "outputs": [],
   "source": [
    "# # if you haven't unzipped training data\n",
    "# !unzip \"/home/mac/Covid-19-Infection-Percentage-Estimation/Train.zip\" -d  \"/home/mac/Covid-19-Infection-Percentage-Estimation/Train/\""
   ]
  },
  {
   "cell_type": "code",
   "execution_count": null,
   "metadata": {
    "id": "KOZCN2EusO5_"
   },
   "outputs": [],
   "source": [
    "# if you haven't unzipped val data\n",
    "# !unzip \"/home/mac/Covid-19-Infection-Percentage-Estimation/Val Blind.zip\" -d  \"/home/mac/Covid-19-Infection-Percentage-Estimation/Val Blind\""
   ]
  },
  {
   "cell_type": "markdown",
   "metadata": {
    "id": "T58rAfGwOtiP"
   },
   "source": [
    "## Challenge Dataset:\n",
    "\n",
    "The challenge has three sets: Train, Val, and Test, and we will only work with the Train set and Val set (unlabeled). \n",
    "\n",
    "The Train set is obtained from 132 CT-scans, from which 128 CT-scans has confirmed to have Covid-19 based on positive reverse transcription polymerase chain reaction (RT-PCR) and CT scan manifestations identified by two experienced thoracic radiologists. The rest four CT-scans have not any infection type (Healthy). The Val set is obtained from 57 CT-scans, from which 55 CT-scans has confirmed to have Covid-19 based on positive reverse transcription polymerase chain reaction (RT-PCR) and CT scan manifestations identified by two experienced thoracic radiologists. The rest two CT-scans have not any infection type (Healthy).\n",
    "\n",
    "The Train split has two files: Images (Slices) Folder and Labeling Folder ('.csv' file) that contains the labels for each Slice (Image)"
   ]
  },
  {
   "cell_type": "markdown",
   "metadata": {
    "id": "K8JKYqdFO4la"
   },
   "source": [
    "    Train Set\n",
    "    ├── Slices Folder \n",
    "    │      ├ Image_0000.png\n",
    "    │      ├ Image_0001.png\n",
    "    │      ├ ...\n",
    "    |      └ Image_3053.png\n",
    "    ├── Labeling Folder\n",
    "    │   └── Train.csv\n",
    "    │         ├ Slice_Name        Covid-19_percentage  Subject    \n",
    "    │         ├ Image_0000.png    0.0                  0\n",
    "    │         ├ Image_0001.png    0.0                  0\n",
    "    │         ├ ...               ...                  ..\n",
    "    │         └ Image_3053.png    40.0\t               131\n",
    "    └── "
   ]
  },
  {
   "cell_type": "markdown",
   "metadata": {
    "id": "CoiQf1kNPN0f"
   },
   "source": [
    "The Validation split has one file contains the slices images, which will be used to predict the Covid-19 infection percentage. These prediction should be saved as '.csv' file and submitted to the Codalab (https://competitions.codalab.org/competitions/35575) to evaluation the performance:"
   ]
  },
  {
   "cell_type": "markdown",
   "metadata": {
    "id": "jii5kTiMPQHQ"
   },
   "source": [
    "    Val Set\n",
    "    ├── Slices Folder \n",
    "    │      ├ Image_0000.png\n",
    "    │      ├ Image_0001.png\n",
    "    │      ├ ...\n",
    "     |      └ Image_1300.png\n",
    "    └── "
   ]
  },
  {
   "cell_type": "markdown",
   "metadata": {
    "id": "sGTBoEiXS0YP"
   },
   "source": [
    "## Deliverables"
   ]
  },
  {
   "cell_type": "markdown",
   "metadata": {
    "id": "2cwK6XnLSt4E"
   },
   "source": [
    "In the Validation phase, each team should submit the predictions of the validation data as 'predictions.csv' file, which contains the names of the slice images in the first column and the corresponding Covid-19 infection percentage estimation in the second column. **This file should be compressed as 'predictions.zip' file and submitted to CodaLab**.\n",
    "\n",
    "In order to have access to the leader board, you must do the following:\n",
    "- Participation in the Competition: Each team should request to participate in the competition on the CodaLab platform (https://competitions.codalab.org/competitions/35575) with specifying the team name, members, emails and affiliations. The team informations can be send to: faresbougourzi@gmail.com"
   ]
  },
  {
   "cell_type": "markdown",
   "metadata": {
    "id": "KT60ecgITNED"
   },
   "source": [
    "    predictions.zip\n",
    "    ├── predictions.csv\n",
    "    │      ├ Image_0000.png    Pr0            \n",
    "    │      ├ Image_0001.png    Pr1             \n",
    "    │      ├ ...               ...              \n",
    "    │      └ Image_1300.png    Pr1300\t        \n",
    "    └──   "
   ]
  },
  {
   "cell_type": "markdown",
   "metadata": {
    "id": "BoRb-o6NSiaA"
   },
   "source": [
    "## Evaluation"
   ]
  },
  {
   "cell_type": "markdown",
   "metadata": {
    "id": "YSx8S1ugSd2m"
   },
   "source": [
    "The evaluation metrics are: **Mean Absolute Error (MAE), Pearson Correlation coefficient (PC) and Root Mean Square Error (RMSE)**. The most important Evaluation Criterion is the **MAE**. In the event of two or more competitors achieve the same MAE, the PC and the RMSE are considered as the tie-breaker."
   ]
  },
  {
   "cell_type": "markdown",
   "metadata": {
    "id": "gFBUy1lBQIM5"
   },
   "source": [
    "## Custom Dataset Class"
   ]
  },
  {
   "cell_type": "code",
   "execution_count": null,
   "metadata": {
    "id": "TckWJ9O4sVJT"
   },
   "outputs": [],
   "source": [
    "## preprocess data\n",
    "## create custom data class\n",
    "\n",
    "import os\n",
    "import torch\n",
    "import pandas as pd\n",
    "from skimage import io, transform\n",
    "\n",
    "import numpy as np\n",
    "import matplotlib.pyplot as plt\n",
    "from torch.utils.data import Dataset, DataLoader\n",
    "from torchvision import transforms, utils\n",
    "import cv2\n",
    "from PIL import Image\n",
    "import glob\n",
    "\n",
    "from datetime import date, datetime\n",
    "\n",
    "\n",
    "class CovidDataset(Dataset):\n",
    "    \"\"\"Covid CT dataset.\"\"\"\n",
    "\n",
    "    def __init__(self, csv_file, root_dir, transform=None):\n",
    "        \"\"\"\n",
    "        Args:\n",
    "            csv_file (string): Path to the csv file with annotations.\n",
    "            root_dir (string): Directory with all the images.\n",
    "            transform (callable, optional): Optional transform to be applied\n",
    "                on a sample.\n",
    "        \"\"\"\n",
    "        self.label_data = pd.read_csv(csv_file)\n",
    "        self.root_dir = root_dir\n",
    "        ## you can apply custom transformation on the image for data augmentation\n",
    "        self.transform = transform\n",
    "\n",
    "    def __len__(self):\n",
    "        return len(self.label_data)\n",
    "\n",
    "    def __getitem__(self, idx):\n",
    "        if torch.is_tensor(idx):\n",
    "            idx = idx.tolist()\n",
    "\n",
    "        img_name = os.path.join(self.root_dir, self.label_data.iloc[idx, 0])\n",
    "        image = io.imread(img_name)\n",
    "        image = cv2.cvtColor(image, cv2.COLOR_BGRA2BGR)\n",
    "        image = torchvision.transforms.functional.to_tensor(image)\n",
    "        p = self.label_data.iloc[idx, 1]\n",
    "        subject_num = self.label_data.iloc[idx, 2]\n",
    "        sample = {'image': image, 'percentage': p, 'subject': subject_num, 'img_name':img_name}\n",
    "\n",
    "        # should be only applied on image, not percentage or subject #\n",
    "        if self.transform:\n",
    "            sample['image'] = self.transform(sample['image'])\n",
    "\n",
    "        return sample"
   ]
  },
  {
   "cell_type": "code",
   "execution_count": null,
   "metadata": {
    "id": "Z0hPdBQZ3DLE"
   },
   "outputs": [],
   "source": [
    "class CovidTestDataset(Dataset):\n",
    "    \"\"\"Covid CT TEST dataset.\"\"\"\n",
    "\n",
    "    def __init__(self, root_dir, transform=None):\n",
    "        \"\"\"\n",
    "        Args:\n",
    "            root_dir (string): Directory with all the images.\n",
    "            transform (callable, optional): Optional transform to be applied\n",
    "                on a sample.\n",
    "        \"\"\"\n",
    "        self.root_dir = root_dir\n",
    "        self.image_list = []\n",
    "        for filename in glob.glob(self.root_dir+\"/*.png\"): #assuming png\n",
    "            self.image_list.append(filename)\n",
    "\n",
    "    def __len__(self):\n",
    "        return len(self.image_list)\n",
    "\n",
    "    def __getitem__(self, idx):\n",
    "        if torch.is_tensor(idx):\n",
    "            idx = idx.tolist()\n",
    "\n",
    "        img_name = self.image_list[idx]\n",
    "        image = io.imread(img_name)\n",
    "        image = cv2.cvtColor(image, cv2.COLOR_BGRA2BGR)\n",
    "        image = torchvision.transforms.functional.to_tensor(image)\n",
    "        sample = {'image': image, 'img_name':img_name}\n",
    "\n",
    "        return sample"
   ]
  },
  {
   "cell_type": "code",
   "execution_count": null,
   "metadata": {
    "id": "DmV47ZBJy1Nv"
   },
   "outputs": [],
   "source": [
    "import torchvision\n",
    "covid_dataset_train_val = CovidDataset(csv_file='drive/MyDrive/Colab Notebooks/Train.csv',\n",
    "                                    root_dir='drive/MyDrive/Colab Notebooks/Train'\n",
    "                                    #, transform = transforms.Compose([\n",
    "                                    #           Rescale(256),\n",
    "                                    #           RandomCrop(224),\n",
    "                                    #           ToTensor()\n",
    "                                    #       ])\n",
    "                                    )\n",
    "\n",
    "covid_dataset_test = CovidTestDataset(root_dir='drive/MyDrive/Colab Notebooks/Val')"
   ]
  },
  {
   "cell_type": "code",
   "execution_count": null,
   "metadata": {
    "colab": {
     "base_uri": "https://localhost:8080/",
     "height": 193
    },
    "id": "rJg-KZXP1AcI",
    "outputId": "89c0d7f4-6070-4801-c00e-a9c94cf7ded5"
   },
   "outputs": [
    {
     "name": "stdout",
     "output_type": "stream",
     "text": [
      "0 torch.Size([3, 512, 512]) 0.0 0\n",
      "1 torch.Size([3, 512, 512]) 0.0 0\n",
      "2 torch.Size([3, 512, 512]) 0.0 0\n",
      "3 torch.Size([3, 512, 512]) 0.0 0\n"
     ]
    },
    {
     "data": {
      "image/png": "[encoded data removed]",
      "text/plain": [
       "<Figure size 432x288 with 4 Axes>"
      ]
     },
     "metadata": {
      "needs_background": "light"
     },
     "output_type": "display_data"
    }
   ],
   "source": [
    "## plot training example\n",
    "for i in range(len(covid_dataset_train_val)):\n",
    "    sample = covid_dataset_train_val[i]\n",
    "    print(i, sample['image'].shape, sample['percentage'], sample['subject'])\n",
    "    ax = plt.subplot(1, 4, i + 1)\n",
    "    plt.tight_layout()\n",
    "    ax.set_title('Sample #{}'.format(i))\n",
    "    ax.axis('off')\n",
    "    plt.imshow(sample['image'].numpy().transpose(1,2,0))\n",
    "    if i == 3:\n",
    "        plt.show()\n",
    "        break"
   ]
  },
  {
   "cell_type": "code",
   "execution_count": null,
   "metadata": {
    "colab": {
     "base_uri": "https://localhost:8080/",
     "height": 193
    },
    "id": "YuAZNhAB1BXs",
    "outputId": "f3dc34b3-050d-4633-e918-b121d50c0b81"
   },
   "outputs": [
    {
     "name": "stdout",
     "output_type": "stream",
     "text": [
      "0 torch.Size([3, 512, 512]) drive/MyDrive/Colab Notebooks/Val/Image_0304.png\n",
      "1 torch.Size([3, 512, 512]) drive/MyDrive/Colab Notebooks/Val/Image_0301.png\n",
      "2 torch.Size([3, 512, 512]) drive/MyDrive/Colab Notebooks/Val/Image_0303.png\n",
      "3 torch.Size([3, 512, 512]) drive/MyDrive/Colab Notebooks/Val/Image_0302.png\n"
     ]
    },
    {
     "data": {
      "image/png": "[encoded data removed]",
      "text/plain": [
       "<Figure size 432x288 with 4 Axes>"
      ]
     },
     "metadata": {
      "needs_background": "light"
     },
     "output_type": "display_data"
    }
   ],
   "source": [
    "## plot test examples\n",
    "for i in range(len(covid_dataset_test)):\n",
    "    sample = covid_dataset_test[i]\n",
    "    print(i, sample['image'].shape, sample['img_name'])\n",
    "    ax = plt.subplot(1, 4, i + 1)\n",
    "    plt.tight_layout()\n",
    "    ax.set_title('Sample #{}'.format(i))\n",
    "    ax.axis('off')\n",
    "    plt.imshow(sample['image'].numpy().transpose(1,2,0))\n",
    "    if i == 3:\n",
    "        plt.show()\n",
    "        break"
   ]
  },
  {
   "cell_type": "markdown",
   "metadata": {
    "id": "ZV7i3Ov9REFZ"
   },
   "source": [
    "##Split given train set to train & val set"
   ]
  },
  {
   "cell_type": "code",
   "execution_count": null,
   "metadata": {
    "id": "oL3jOThzHqze"
   },
   "outputs": [],
   "source": [
    "# please skip this section if you do not want to normalize the training and testing data\n",
    "\n",
    "# When using resnet 152 and resnet 101, please use batch_size = 4\n",
    "train_val_set = DataLoader(covid_dataset_train_val, batch_size=4, shuffle=True, num_workers=0)\n",
    "test_set = DataLoader(covid_dataset_test, batch_size=4, shuffle=True, num_workers=0)\n",
    "\n",
    "# When using resnet 34 and resnet 50, please use batch_size = 8\n",
    "# train_val_set = DataLoader(covid_dataset_train_val, batch_size=8, shuffle=True, num_workers=0)\n",
    "# test_set = DataLoader(covid_dataset_test, batch_size=8, shuffle=True, num_workers=0)\n",
    "\n",
    "pixel_sum = torch.tensor([0.0, 0.0, 0.0])\n",
    "pixel_var = torch.tensor([0.0, 0.0, 0.0])\n",
    "\n",
    "for inputs in train_val_set:\n",
    "    # calculate the sum of the pixels\n",
    "    pixel_sum = pixel_sum + inputs['image'].sum(axis = [0, 2, 3])\n",
    "\n",
    "    # calculate the squared value of pixels\n",
    "    pixel_var = pixel_var + (inputs['image'] ** 2).sum(axis = [0, 2, 3])\n",
    "\n",
    "for inputs in test_set:\n",
    "\n",
    "    pixel_sum = pixel_sum + inputs['image'].sum(axis = [0, 2, 3])\n",
    "    pixel_var = pixel_var + (inputs['image'] ** 2).sum(axis = [0, 2, 3])\n",
    "\n",
    "    \n",
    "count = (len(covid_dataset_train_val) + len(covid_dataset_test)) * 512 * 512\n",
    "\n",
    "# mean = sum / pixel count\n",
    "mean = pixel_sum  / count\n",
    "\n",
    "# variance = squared pixel / pixel count - mean^2\n",
    "var  = (pixel_var/ count) - (mean ** 2)\n",
    "std  = torch.sqrt(var)\n",
    "\n",
    "mean=[0.4945, 0.4945, 0.4945]\n",
    "std=[0.3744, 0.3744, 0.3744]\n",
    "\n",
    "# mean = np.array(mean)\n",
    "# std = np.array(std)\n",
    "\n",
    "train_transform = transforms.Compose([\n",
    "    transforms.ToPILImage(),\n",
    "    transforms.ToTensor(),\n",
    "    transforms.Normalize(mean, std)])\n",
    "\n",
    "covid_dataset_train_val = CovidDataset(csv_file='drive/MyDrive/Colab Notebooks/Train.csv',\n",
    "                                       root_dir='drive/MyDrive/Colab Notebooks/Train',\n",
    "                                       transform = train_transform)\n",
    "\n",
    "covid_dataset_test = CovidTestDataset(root_dir='drive/MyDrive/Colab Notebooks/Val',\n",
    "                                      transform = train_transform)\n"
   ]
  },
  {
   "cell_type": "code",
   "execution_count": null,
   "metadata": {},
   "outputs": [],
   "source": [
    "\n",
    "## split given train set to train & val set\n",
    "\n",
    "#dataloader = DataLoader(covid_dataset, batch_size=4, shuffle=True, num_workers=0)\n",
    "# print(len(covid_dataset_train_val))\n",
    "train_size = int(0.7 * len(covid_dataset_train_val))\n",
    "val_size = len(covid_dataset_train_val) - train_size\n",
    "# print(train_size, val_size)\n",
    "\n",
    "train_dataset, val_dataset = torch.utils.data.random_split(covid_dataset_train_val, [train_size, val_size])\n",
    "\n",
    "# For resnet 34 and 50, batch_size should be set to 8\n",
    "# train_dataloader = DataLoader(train_dataset, batch_size=8, shuffle=True, num_workers=0)\n",
    "# val_dataloader = DataLoader(val_dataset, batch_size=8, shuffle=True, num_workers=0)\n",
    "\n",
    "# For resnet 101 and 152, batch_size should be set to 4\n",
    "train_dataloader = DataLoader(train_dataset, batch_size=4, shuffle=True, num_workers=0)\n",
    "val_dataloader = DataLoader(val_dataset, batch_size=4, shuffle=True, num_workers=0)\n",
    "\n",
    "## test set\n",
    "test_dataloader = DataLoader(covid_dataset_test, batch_size=8, shuffle=True, num_workers=0)"
   ]
  },
  {
   "cell_type": "code",
   "execution_count": null,
   "metadata": {},
   "outputs": [],
   "source": []
  },
  {
   "cell_type": "markdown",
   "metadata": {
    "id": "OClBrnNnRK_t"
   },
   "source": [
    "## Import pretrained models library"
   ]
  },
  {
   "cell_type": "code",
   "execution_count": null,
   "metadata": {
    "colab": {
     "base_uri": "https://localhost:8080/"
    },
    "id": "sIQiUJcyvJ1y",
    "outputId": "384297e8-7af3-475f-a4eb-2855d3cd05a9"
   },
   "outputs": [
    {
     "name": "stdout",
     "output_type": "stream",
     "text": [
      "Collecting pretrainedmodels\n",
      "  Downloading pretrainedmodels-0.7.4.tar.gz (58 kB)\n",
      "\u001b[?25l\r",
      "\u001b[K     |█████▋                          | 10 kB 20.4 MB/s eta 0:00:01\r",
      "\u001b[K     |███████████▏                    | 20 kB 16.9 MB/s eta 0:00:01\r",
      "\u001b[K     |████████████████▊               | 30 kB 9.9 MB/s eta 0:00:01\r",
      "\u001b[K     |██████████████████████▎         | 40 kB 8.2 MB/s eta 0:00:01\r",
      "\u001b[K     |███████████████████████████▉    | 51 kB 5.4 MB/s eta 0:00:01\r",
      "\u001b[K     |████████████████████████████████| 58 kB 3.1 MB/s \n",
      "\u001b[?25hRequirement already satisfied: torch in /usr/local/lib/python3.7/dist-packages (from pretrainedmodels) (1.10.0+cu111)\n",
      "Requirement already satisfied: torchvision in /usr/local/lib/python3.7/dist-packages (from pretrainedmodels) (0.11.1+cu111)\n",
      "Collecting munch\n",
      "  Downloading munch-2.5.0-py2.py3-none-any.whl (10 kB)\n",
      "Requirement already satisfied: tqdm in /usr/local/lib/python3.7/dist-packages (from pretrainedmodels) (4.63.0)\n",
      "Requirement already satisfied: six in /usr/local/lib/python3.7/dist-packages (from munch->pretrainedmodels) (1.15.0)\n",
      "Requirement already satisfied: typing-extensions in /usr/local/lib/python3.7/dist-packages (from torch->pretrainedmodels) (3.10.0.2)\n",
      "Requirement already satisfied: pillow!=8.3.0,>=5.3.0 in /usr/local/lib/python3.7/dist-packages (from torchvision->pretrainedmodels) (7.1.2)\n",
      "Requirement already satisfied: numpy in /usr/local/lib/python3.7/dist-packages (from torchvision->pretrainedmodels) (1.21.5)\n",
      "Building wheels for collected packages: pretrainedmodels\n",
      "  Building wheel for pretrainedmodels (setup.py) ... \u001b[?25l\u001b[?25hdone\n",
      "  Created wheel for pretrainedmodels: filename=pretrainedmodels-0.7.4-py3-none-any.whl size=60965 sha256=d145a99de51ad93b4ffba66ae131237c6a323b66c00f46f0e8ff940285dc69bf\n",
      "  Stored in directory: /root/.cache/pip/wheels/ed/27/e8/9543d42de2740d3544db96aefef63bda3f2c1761b3334f4873\n",
      "Successfully built pretrainedmodels\n",
      "Installing collected packages: munch, pretrainedmodels\n",
      "Successfully installed munch-2.5.0 pretrainedmodels-0.7.4\n"
     ]
    }
   ],
   "source": [
    "# ## use imagenet pretrained model\n",
    "# ## let's start with resnet34\n",
    "!pip install pretrainedmodels"
   ]
  },
  {
   "cell_type": "markdown",
   "metadata": {
    "id": "NJTMiALSRRHC"
   },
   "source": [
    "## Use CUDA to speed up training"
   ]
  },
  {
   "cell_type": "code",
   "execution_count": null,
   "metadata": {
    "colab": {
     "base_uri": "https://localhost:8080/"
    },
    "id": "1BT-6cVxs_iT",
    "outputId": "b3b641f5-751b-4829-b3a8-56e79f39933f"
   },
   "outputs": [
    {
     "name": "stdout",
     "output_type": "stream",
     "text": [
      "cuda:0\n"
     ]
    }
   ],
   "source": [
    "import torch\n",
    "device = torch.device(\"cuda:0\" if torch.cuda.is_available() else \"cpu\")\n",
    "print(device)"
   ]
  },
  {
   "cell_type": "markdown",
   "metadata": {
    "id": "wqPiUx1XRbIL"
   },
   "source": [
    "## Create Baseline Model"
   ]
  },
  {
   "cell_type": "code",
   "execution_count": null,
   "metadata": {
    "id": "Tl9GV4oRqutR"
   },
   "outputs": [],
   "source": [
    "import pretrainedmodels\n",
    "import torch\n",
    "from torch import nn, optim\n",
    "import torchvision\n",
    "from torch.nn import functional as F"
   ]
  },
  {
   "cell_type": "code",
   "execution_count": null,
   "metadata": {
    "id": "6DIFuG0hvZn7"
   },
   "outputs": [],
   "source": [
    "class CNN1(nn.Module):\n",
    "    def __init__(self, pretrained=True):\n",
    "        super(CNN1, self).__init__()\n",
    "        if pretrained is True:\n",
    "            self.model = pretrainedmodels.__dict__[\"resnet34\"](pretrained=\"imagenet\")\n",
    "        else:\n",
    "            self.model = pretrainedmodels.__dict__[\"resnet34\"](pretrained=None)\n",
    "        #self.fc1 = nn.Linear(512, 256)\n",
    "\n",
    "        self.conv1 = nn.Conv2d(512, 128, (5,5), stride=1, padding =0)\n",
    "        self.conv2 = nn.Conv2d(128, 32, (5,5), stride=1, padding =0)\n",
    "        self.dropout = nn.Dropout(p=0.5)\n",
    "        self.conv3 = nn.Conv2d(32, 8, (5,5), stride=1, padding =0)\n",
    "        self.fc1 = nn.Linear(128, 1)\n",
    "\n",
    "    def forward(self, x):\n",
    "        bs, _, _, _ = x.shape\n",
    "        x = self.model.features(x)\n",
    "        #x = F.adaptive_avg_pool2d(x) #.reshape(bs, -1)\n",
    "        #x = F.relu(self.fc1(x))\n",
    "        x = self.conv1(x)\n",
    "        x = self.conv2(x)\n",
    "        x = self.dropout(x)\n",
    "        x = self.conv3(F.relu(x))\n",
    "        #print(x.size()) # [8, 8, 4, 4]\n",
    "        label = self.fc1(x.reshape(bs, -1))  # [8, 128]\n",
    "        return label\n",
    "\n",
    "class CNN2(nn.Module):\n",
    "    def __init__(self, pretrained=True):\n",
    "        super(CNN2, self).__init__()\n",
    "        if pretrained is True:\n",
    "            self.model = pretrainedmodels.__dict__[\"resnet50\"](pretrained=\"imagenet\")\n",
    "        else:\n",
    "            self.model = pretrainedmodels.__dict__[\"resnet50\"](pretrained=None)\n",
    "        #self.fc1 = nn.Linear(512, 256)\n",
    "        self.conv1 = nn.Conv2d(2048, 128, (5,5), stride=1, padding =0)\n",
    "        self.conv2 = nn.Conv2d(128, 32, (5,5), stride=1, padding =0)\n",
    "        self.dropout = nn.Dropout(p=0.5)\n",
    "        self.conv3 = nn.Conv2d(32, 8, (5,5), stride=1, padding =0)\n",
    "        self.fc1 = nn.Linear(128, 1)\n",
    "        \n",
    "    def forward(self, x):\n",
    "        bs, _, _, _ = x.shape\n",
    "        x = self.model.features(x)\n",
    "        #x = F.adaptive_avg_pool2d(x) #.reshape(bs, -1)\n",
    "        #x = F.relu(self.fc1(x))\n",
    "        x = self.conv1(x)\n",
    "        x = self.conv2(x)\n",
    "        x = self.dropout(x)\n",
    "        x = self.conv3(F.relu(x))\n",
    "        #print(x.size()) # [8, 8, 4, 4]\n",
    "        label = self.fc1(x.reshape(bs, -1))  # [8, 128]\n",
    "        return label\n",
    "\n",
    "class CNN3(nn.Module):\n",
    "    def __init__(self, pretrained=True):\n",
    "        super(CNN3, self).__init__()\n",
    "        if pretrained is True:\n",
    "            self.model = pretrainedmodels.__dict__[\"resnet101\"](pretrained=\"imagenet\")\n",
    "        else:\n",
    "            self.model = pretrainedmodels.__dict__[\"resnet101\"](pretrained=None)\n",
    "        #self.fc1 = nn.Linear(512, 256)\n",
    "        \n",
    "        self.conv1 = nn.Conv2d(2048, 128, (5,5), stride=1, padding =0)\n",
    "        self.conv2 = nn.Conv2d(128, 32, (5,5), stride=1, padding =0)\n",
    "        self.dropout = nn.Dropout(p=0.5)\n",
    "        self.conv3 = nn.Conv2d(32, 8, (5,5), stride=1, padding =0)\n",
    "        self.fc1 = nn.Linear(128, 1)\n",
    "        \n",
    "    def forward(self, x):\n",
    "        bs, _, _, _ = x.shape\n",
    "        x = self.model.features(x)\n",
    "        #x = F.adaptive_avg_pool2d(x) #.reshape(bs, -1)\n",
    "        #x = F.relu(self.fc1(x))\n",
    "        x = self.conv1(x)\n",
    "        x = self.conv2(x)\n",
    "        x = self.dropout(x)\n",
    "        x = self.conv3(F.relu(x))\n",
    "        #print(x.size()) # [8, 8, 4, 4]\n",
    "        label = self.fc1(x.reshape(bs, -1))  # [8, 128]\n",
    "        return label\n",
    "\n",
    "class CNN4(nn.Module):\n",
    "    def __init__(self, pretrained=True):\n",
    "        super(CNN4, self).__init__()\n",
    "        if pretrained is True:\n",
    "            self.model = pretrainedmodels.__dict__[\"resnet152\"](pretrained=\"imagenet\")\n",
    "        else:\n",
    "            self.model = pretrainedmodels.__dict__[\"resnet152\"](pretrained=None)\n",
    "        #self.fc1 = nn.Linear(512, 256)\n",
    "        self.conv1 = nn.Conv2d(2048, 128, (5,5), stride=1, padding =0)\n",
    "        self.conv2 = nn.Conv2d(128, 32, (5,5), stride=1, padding =0)\n",
    "        self.dropout = nn.Dropout(p=0.5)\n",
    "        self.conv3 = nn.Conv2d(32, 8, (5,5), stride=1, padding =0)\n",
    "        self.fc1 = nn.Linear(128, 1)\n",
    "        \n",
    "    def forward(self, x):\n",
    "        bs, _, _, _ = x.shape\n",
    "        x = self.model.features(x)\n",
    "        #x = F.adaptive_avg_pool2d(x) #.reshape(bs, -1)\n",
    "        #x = F.relu(self.fc1(x))\n",
    "        x = self.conv1(x)\n",
    "        x = self.conv2(x)\n",
    "        x = self.dropout(x)\n",
    "        x = self.conv3(F.relu(x))\n",
    "        #print(x.size()) # [8, 8, 4, 4]\n",
    "        label = self.fc1(x.reshape(bs, -1))  # [8, 128]\n",
    "        return label\n"
   ]
  },
  {
   "cell_type": "code",
   "execution_count": null,
   "metadata": {
    "colab": {
     "base_uri": "https://localhost:8080/",
     "height": 67,
     "referenced_widgets": [
      "bd3c472cbdb54b3eab2c8ebe654186f3",
      "0f0569e5d4a04757bb4a877e82d44427",
      "1be38d850f504f6eaf9e541485560a97",
      "2652670b3f3242b0a0d9bc74a1370d9e",
      "e045daeb62064a8d86597e4323beea02",
      "d86d9dd2e22948e6b90238116481d7c3",
      "821277aee12f4d2c9797849e2212e239",
      "2c7858bc13744ea88ea9e1db1b42b2a0",
      "aaf6c2d523ec4d0ba42b6041bf8e3f39",
      "84a489962dbc4e7898ced9589abd8a15",
      "5927d423e1f94270a0190583a83434ac"
     ]
    },
    "id": "VSklLyGys4tz",
    "outputId": "d5a69dc8-e9ec-4cd8-cf01-326ad095f9b0",
    "scrolled": true
   },
   "outputs": [
    {
     "name": "stderr",
     "output_type": "stream",
     "text": [
      "Downloading: \"https://download.pytorch.org/models/resnet152-b121ed2d.pth\" to /root/.cache/torch/hub/checkpoints/resnet152-b121ed2d.pth\n"
     ]
    },
    {
     "data": {
      "application/vnd.jupyter.widget-view+json": {
       "model_id": "bd3c472cbdb54b3eab2c8ebe654186f3",
       "version_major": 2,
       "version_minor": 0
      },
      "text/plain": [
       "  0%|          | 0.00/230M [00:00<?, ?B/s]"
      ]
     },
     "metadata": {},
     "output_type": "display_data"
    }
   ],
   "source": [
    "torch.cuda.empty_cache()\n",
    "\n",
    "model_CNN = CNN4(True).to(device)\n"
   ]
  },
  {
   "cell_type": "markdown",
   "metadata": {
    "id": "ncfJOFxoxwLn"
   },
   "source": [
    "## Create a SAM for the Optimizer"
   ]
  },
  {
   "cell_type": "code",
   "execution_count": null,
   "metadata": {
    "id": "Hz9o6IGPxrfl"
   },
   "outputs": [],
   "source": [
    "# credits to: https://github.com/AnujCodeZ/ImageCLFUsingEffNetWithSAM/tree/0d683100ef3d546fc837eb9fe0449c20bdb2b0d9\n",
    "\n",
    "import torch\n",
    "\n",
    "rho = 0.05\n",
    "learning_rate = 0.001\n",
    "momentum = 0.9\n",
    "weight_decay = 0.005\n",
    "\n",
    "class SAM(torch.optim.Optimizer):\n",
    "    def __init__(self, params, base_optimizer, rho=0.05, adaptive=False, **kwargs):\n",
    "        assert rho >= 0.0, f\"Invalid rho, should be non-negative: {rho}\"\n",
    "\n",
    "        defaults = dict(rho=rho, adaptive=adaptive, **kwargs)\n",
    "        super(SAM, self).__init__(params, defaults)\n",
    "\n",
    "        self.base_optimizer = base_optimizer(self.param_groups, **kwargs)\n",
    "        self.param_groups = self.base_optimizer.param_groups\n",
    "\n",
    "    @torch.no_grad()\n",
    "    def first_step(self, zero_grad=False):\n",
    "        grad_norm = self._grad_norm()\n",
    "        for group in self.param_groups:\n",
    "            scale = group[\"rho\"] / (grad_norm + 1e-12)\n",
    "\n",
    "            for p in group[\"params\"]:\n",
    "                if p.grad is None: continue\n",
    "                e_w = (torch.pow(p, 2) if group[\"adaptive\"] else 1.0) * p.grad * scale.to(p)\n",
    "                p.add_(e_w)  # climb to the local maximum \"w + e(w)\"\n",
    "                self.state[p][\"e_w\"] = e_w\n",
    "\n",
    "        if zero_grad: self.zero_grad()\n",
    "\n",
    "    @torch.no_grad()\n",
    "    def second_step(self, zero_grad=False):\n",
    "        for group in self.param_groups:\n",
    "            for p in group[\"params\"]:\n",
    "                if p.grad is None: continue\n",
    "                p.sub_(self.state[p][\"e_w\"])  # get back to \"w\" from \"w + e(w)\"\n",
    "\n",
    "        self.base_optimizer.step()  # do the actual \"sharpness-aware\" update\n",
    "\n",
    "        if zero_grad: self.zero_grad()\n",
    "\n",
    "    @torch.no_grad()\n",
    "    def step(self, closure=None):\n",
    "        assert closure is not None, \"Sharpness Aware Minimization requires closure, but it was not provided\"\n",
    "        closure = torch.enable_grad()(closure)  # the closure should do a full forward-backward pass\n",
    "\n",
    "        self.first_step(zero_grad=True)\n",
    "        closure()\n",
    "        self.second_step()\n",
    "\n",
    "    def _grad_norm(self):\n",
    "        shared_device = self.param_groups[0][\"params\"][0].device  # put everything on the same device, in case of model parallelism\n",
    "        norm = torch.norm(\n",
    "                    torch.stack([\n",
    "                        ((torch.abs(p) if group[\"adaptive\"] else 1.0) * p.grad).norm(p=2).to(shared_device)\n",
    "                        for group in self.param_groups for p in group[\"params\"]\n",
    "                        if p.grad is not None\n",
    "                    ]),\n",
    "                    p=2\n",
    "               )\n",
    "        return norm"
   ]
  },
  {
   "cell_type": "code",
   "execution_count": null,
   "metadata": {
    "id": "ufc5DuRU_8VO"
   },
   "outputs": [],
   "source": [
    "#Setting model and moving to device\n",
    "criterion = nn.L1Loss()\n",
    "\n",
    "#optimizer = optim.SGD(model_CNN.parameters(), lr=0.001, momentum=0.9)\n",
    "\n",
    "optimizer = optim.Adam(model_CNN.parameters(), lr=0.001)\n",
    "\n",
    "\n",
    "# base_optimizer = optim.SGD(model_CNN.parameters(), lr=0.001, momentum=0.9)\n",
    "# optimizer = SAM(model_CNN.parameters(), \n",
    "#                 base_optimizer, \n",
    "#                 rho=rho, \n",
    "#                 lr=learning_rate, \n",
    "#                 momentum=momentum, \n",
    "#                 weight_decay=weight_decay)"
   ]
  },
  {
   "cell_type": "code",
   "execution_count": null,
   "metadata": {
    "id": "O42uOYtUAK2D"
   },
   "outputs": [],
   "source": [
    "def train_model(model, criterion, optimizer, n_epochs=20):\n",
    "    \"\"\"returns trained model\"\"\"\n",
    "    # initialize tracker for minimum validation loss\n",
    "    valid_loss_min = np.Inf\n",
    "    trainloss=[]\n",
    "    testloss=[]\n",
    "    for epoch in range(1, n_epochs):\n",
    "        train_loss = 0.0\n",
    "        valid_loss = 0.0\n",
    "        # train the model #\n",
    "        model.train()\n",
    "        for batch_idx, sample_batched in enumerate(train_dataloader):\n",
    "            # importing data and moving to GPU\n",
    "            image, label = sample_batched['image'].to(device), sample_batched['percentage'].to(device)\n",
    "            # zero the parameter gradients\n",
    "            optimizer.zero_grad()\n",
    "            output=model(image).reshape(-1)\n",
    "            # calculate loss\n",
    "            loss = criterion((output).type(torch.FloatTensor).to(device), label.type(torch.FloatTensor).to(device))\n",
    "            # back prop\n",
    "            loss.backward()\n",
    "            # grad\n",
    "            optimizer.step()\n",
    "            train_loss = train_loss + ((1 / (batch_idx + 1)) * (loss.data - train_loss))\n",
    "            if batch_idx % 100 == 0:\n",
    "                print('Epoch %d, Batch %d loss: %.6f' %\n",
    "                  (epoch, batch_idx + 1, train_loss))\n",
    "        # validate the model #\n",
    "        model.eval()\n",
    "        for batch_idx, sample_batched in enumerate(val_dataloader):\n",
    "            image, label = sample_batched['image'].to(device), sample_batched['percentage'].to(device)  \n",
    "            output = model(image).reshape(-1)\n",
    "            # calculate loss\n",
    "            loss=criterion((output).type(torch.FloatTensor).to(device), label.type(torch.FloatTensor).to(device))\n",
    "            valid_loss = valid_loss + ((1 / (batch_idx + 1)) * (loss.data - valid_loss))\n",
    "        \n",
    "        # print training/validation statistics \n",
    "        print('Epoch: {} \\tTraining Loss: {:.6f} \\tValidation Loss: {:.6f}'.format(\n",
    "            epoch, train_loss, valid_loss))\n",
    "        \n",
    "        trainloss.append(train_loss)\n",
    "        testloss.append(valid_loss)               \n",
    "        \n",
    "        ## TODO: save the model if validation loss has decreased\n",
    "        if valid_loss < valid_loss_min:\n",
    "            # torch.save(model, 'training_log/model_' + model.get_pretrianed_model_name() + '_' + str(today) + '.pt')\n",
    "            print('Validation loss decreased ({:.6f} --> {:.6f}).  Saving model ...'.format(\n",
    "            valid_loss_min,\n",
    "            valid_loss))\n",
    "            valid_loss_min = valid_loss\n",
    "    # return trained model\n",
    "    return (model, trainloss, testloss)"
   ]
  },
  {
   "cell_type": "code",
   "execution_count": null,
   "metadata": {
    "id": "vLBrRMUtJsS3"
   },
   "outputs": [],
   "source": [
    "torch.cuda.memory_summary(device=None, abbreviated=False)\n",
    "torch.cuda.empty_cache()"
   ]
  },
  {
   "cell_type": "code",
   "execution_count": null,
   "metadata": {
    "colab": {
     "base_uri": "https://localhost:8080/"
    },
    "id": "pRcDzZQnAScu",
    "outputId": "9f63398a-e136-410d-b80c-f4f82e32939e"
   },
   "outputs": [
    {
     "name": "stdout",
     "output_type": "stream",
     "text": [
      "Epoch 1, Batch 1 loss: 30.337370\n",
      "Epoch 1, Batch 101 loss: 18.470491\n",
      "Epoch 1, Batch 201 loss: 17.859289\n",
      "Epoch 1, Batch 301 loss: 17.396137\n",
      "Epoch 1, Batch 401 loss: 17.762394\n",
      "Epoch 1, Batch 501 loss: 17.595839\n",
      "Epoch: 1 \tTraining Loss: 17.515612 \tValidation Loss: 15.415020\n",
      "Validation loss decreased (inf --> 15.415020).  Saving model ...\n",
      "Epoch 2, Batch 1 loss: 24.720182\n",
      "Epoch 2, Batch 101 loss: 16.784414\n",
      "Epoch 2, Batch 201 loss: 17.374186\n",
      "Epoch 2, Batch 301 loss: 16.751059\n",
      "Epoch 2, Batch 401 loss: 16.390043\n",
      "Epoch 2, Batch 501 loss: 16.713989\n",
      "Epoch: 2 \tTraining Loss: 16.969444 \tValidation Loss: 16.058834\n",
      "Epoch 3, Batch 1 loss: 13.073294\n",
      "Epoch 3, Batch 101 loss: 14.721651\n",
      "Epoch 3, Batch 201 loss: 14.894619\n",
      "Epoch 3, Batch 301 loss: 15.301888\n",
      "Epoch 3, Batch 401 loss: 14.514127\n",
      "Epoch 3, Batch 501 loss: 13.659059\n",
      "Epoch: 3 \tTraining Loss: 13.395611 \tValidation Loss: 8.394993\n",
      "Validation loss decreased (15.415020 --> 8.394993).  Saving model ...\n",
      "Epoch 4, Batch 1 loss: 6.555739\n",
      "Epoch 4, Batch 101 loss: 9.828748\n",
      "Epoch 4, Batch 201 loss: 9.591287\n",
      "Epoch 4, Batch 301 loss: 9.752040\n",
      "Epoch 4, Batch 401 loss: 9.694980\n",
      "Epoch 4, Batch 501 loss: 9.708752\n",
      "Epoch: 4 \tTraining Loss: 9.600526 \tValidation Loss: 7.453945\n",
      "Validation loss decreased (8.394993 --> 7.453945).  Saving model ...\n",
      "Epoch 5, Batch 1 loss: 5.688630\n",
      "Epoch 5, Batch 101 loss: 9.298685\n",
      "Epoch 5, Batch 201 loss: 8.697021\n",
      "Epoch 5, Batch 301 loss: 8.245629\n",
      "Epoch 5, Batch 401 loss: 8.729509\n",
      "Epoch 5, Batch 501 loss: 8.666690\n",
      "Epoch: 5 \tTraining Loss: 8.632601 \tValidation Loss: 7.074617\n",
      "Validation loss decreased (7.453945 --> 7.074617).  Saving model ...\n",
      "Epoch 6, Batch 1 loss: 8.518932\n",
      "Epoch 6, Batch 101 loss: 8.203004\n",
      "Epoch 6, Batch 201 loss: 7.674242\n",
      "Epoch 6, Batch 301 loss: 7.562063\n",
      "Epoch 6, Batch 401 loss: 7.635587\n",
      "Epoch 6, Batch 501 loss: 7.777264\n",
      "Epoch: 6 \tTraining Loss: 7.785733 \tValidation Loss: 8.788994\n",
      "Epoch 7, Batch 1 loss: 0.895594\n",
      "Epoch 7, Batch 101 loss: 7.655690\n",
      "Epoch 7, Batch 201 loss: 7.723438\n",
      "Epoch 7, Batch 301 loss: 8.013802\n",
      "Epoch 7, Batch 401 loss: 7.489497\n",
      "Epoch 7, Batch 501 loss: 7.636099\n",
      "Epoch: 7 \tTraining Loss: 7.608006 \tValidation Loss: 6.860495\n",
      "Validation loss decreased (7.074617 --> 6.860495).  Saving model ...\n",
      "Epoch 8, Batch 1 loss: 1.720700\n",
      "Epoch 8, Batch 101 loss: 7.452685\n",
      "Epoch 8, Batch 201 loss: 7.208833\n",
      "Epoch 8, Batch 301 loss: 7.106294\n",
      "Epoch 8, Batch 401 loss: 7.200248\n",
      "Epoch 8, Batch 501 loss: 7.142294\n",
      "Epoch: 8 \tTraining Loss: 7.118522 \tValidation Loss: 5.828659\n",
      "Validation loss decreased (6.860495 --> 5.828659).  Saving model ...\n",
      "Epoch 9, Batch 1 loss: 2.748421\n",
      "Epoch 9, Batch 101 loss: 6.370020\n",
      "Epoch 9, Batch 201 loss: 7.119633\n",
      "Epoch 9, Batch 301 loss: 7.098025\n",
      "Epoch 9, Batch 401 loss: 7.011021\n",
      "Epoch 9, Batch 501 loss: 6.925130\n",
      "Epoch: 9 \tTraining Loss: 6.893183 \tValidation Loss: 5.664756\n",
      "Validation loss decreased (5.828659 --> 5.664756).  Saving model ...\n",
      "Epoch 10, Batch 1 loss: 9.173433\n",
      "Epoch 10, Batch 101 loss: 6.713497\n",
      "Epoch 10, Batch 201 loss: 6.310358\n",
      "Epoch 10, Batch 301 loss: 6.222773\n",
      "Epoch 10, Batch 401 loss: 6.649412\n",
      "Epoch 10, Batch 501 loss: 6.884357\n",
      "Epoch: 10 \tTraining Loss: 6.904115 \tValidation Loss: 6.618739\n",
      "Epoch 11, Batch 1 loss: 1.621390\n",
      "Epoch 11, Batch 101 loss: 6.265532\n",
      "Epoch 11, Batch 201 loss: 6.362023\n",
      "Epoch 11, Batch 301 loss: 6.593532\n",
      "Epoch 11, Batch 401 loss: 6.632588\n",
      "Epoch 11, Batch 501 loss: 6.643208\n",
      "Epoch: 11 \tTraining Loss: 6.642878 \tValidation Loss: 5.401129\n",
      "Validation loss decreased (5.664756 --> 5.401129).  Saving model ...\n",
      "Epoch 12, Batch 1 loss: 11.678802\n",
      "Epoch 12, Batch 101 loss: 6.646595\n",
      "Epoch 12, Batch 201 loss: 6.533586\n",
      "Epoch 12, Batch 301 loss: 6.374223\n",
      "Epoch 12, Batch 401 loss: 6.508522\n",
      "Epoch 12, Batch 501 loss: 6.643624\n",
      "Epoch: 12 \tTraining Loss: 6.647238 \tValidation Loss: 6.416758\n",
      "Epoch 13, Batch 1 loss: 3.258118\n",
      "Epoch 13, Batch 101 loss: 6.276951\n",
      "Epoch 13, Batch 201 loss: 6.434666\n",
      "Epoch 13, Batch 301 loss: 6.526897\n",
      "Epoch 13, Batch 401 loss: 6.495055\n",
      "Epoch 13, Batch 501 loss: 6.458269\n",
      "Epoch: 13 \tTraining Loss: 6.478537 \tValidation Loss: 8.558170\n",
      "Epoch 14, Batch 1 loss: 3.781529\n",
      "Epoch 14, Batch 101 loss: 6.449459\n",
      "Epoch 14, Batch 201 loss: 6.570520\n",
      "Epoch 14, Batch 301 loss: 6.882299\n",
      "Epoch 14, Batch 401 loss: 6.775694\n",
      "Epoch 14, Batch 501 loss: 6.750654\n",
      "Epoch: 14 \tTraining Loss: 6.770541 \tValidation Loss: 5.209019\n",
      "Validation loss decreased (5.401129 --> 5.209019).  Saving model ...\n",
      "Epoch 15, Batch 1 loss: 3.370604\n",
      "Epoch 15, Batch 101 loss: 6.081380\n",
      "Epoch 15, Batch 201 loss: 6.345552\n",
      "Epoch 15, Batch 301 loss: 6.301966\n",
      "Epoch 15, Batch 401 loss: 6.325861\n",
      "Epoch 15, Batch 501 loss: 6.265980\n",
      "Epoch: 15 \tTraining Loss: 6.183586 \tValidation Loss: 6.605095\n",
      "Epoch 16, Batch 1 loss: 2.903151\n",
      "Epoch 16, Batch 101 loss: 6.144094\n",
      "Epoch 16, Batch 201 loss: 7.016718\n",
      "Epoch 16, Batch 301 loss: 6.573352\n",
      "Epoch 16, Batch 401 loss: 6.548815\n",
      "Epoch 16, Batch 501 loss: 6.353222\n",
      "Epoch: 16 \tTraining Loss: 6.333145 \tValidation Loss: 6.498658\n",
      "Epoch 17, Batch 1 loss: 8.082067\n",
      "Epoch 17, Batch 101 loss: 6.000081\n",
      "Epoch 17, Batch 201 loss: 5.855891\n",
      "Epoch 17, Batch 301 loss: 6.043981\n",
      "Epoch 17, Batch 401 loss: 5.841331\n",
      "Epoch 17, Batch 501 loss: 5.756093\n",
      "Epoch: 17 \tTraining Loss: 5.783047 \tValidation Loss: 5.050407\n",
      "Validation loss decreased (5.209019 --> 5.050407).  Saving model ...\n",
      "Epoch 18, Batch 1 loss: 6.237764\n",
      "Epoch 18, Batch 101 loss: 5.927921\n",
      "Epoch 18, Batch 201 loss: 5.611951\n",
      "Epoch 18, Batch 301 loss: 6.008645\n",
      "Epoch 18, Batch 401 loss: 5.935036\n",
      "Epoch 18, Batch 501 loss: 5.791718\n",
      "Epoch: 18 \tTraining Loss: 5.795737 \tValidation Loss: 5.220174\n",
      "Epoch 19, Batch 1 loss: 2.884536\n",
      "Epoch 19, Batch 101 loss: 5.081466\n",
      "Epoch 19, Batch 201 loss: 5.654436\n",
      "Epoch 19, Batch 301 loss: 5.826428\n",
      "Epoch 19, Batch 401 loss: 5.841385\n",
      "Epoch 19, Batch 501 loss: 5.730730\n",
      "Epoch: 19 \tTraining Loss: 5.691263 \tValidation Loss: 7.329925\n"
     ]
    }
   ],
   "source": [
    "\n",
    "model_conv = train_model(model_CNN, criterion, optimizer)"
   ]
  },
  {
   "cell_type": "code",
   "execution_count": null,
   "metadata": {
    "id": "k3by1wxxBd4o"
   },
   "outputs": [],
   "source": [
    "trainloss=[]\n",
    "testloss=[]\n",
    "for i in model_conv[1]:\n",
    "    trainloss.append(i.tolist())\n",
    "for i in model_conv[2]:\n",
    "    testloss.append(i.tolist())"
   ]
  },
  {
   "cell_type": "code",
   "execution_count": null,
   "metadata": {
    "colab": {
     "base_uri": "https://localhost:8080/",
     "height": 306
    },
    "id": "bsy1l_tzS2gW",
    "outputId": "37ca9554-acb8-4bd4-f79b-16490f3d64af"
   },
   "outputs": [
    {
     "data": {
      "image/png": "[encoded data removed]",
      "text/plain": [
       "<Figure size 432x288 with 1 Axes>"
      ]
     },
     "metadata": {
      "needs_background": "light"
     },
     "output_type": "display_data"
    }
   ],
   "source": [
    "import matplotlib.pyplot as plt\n",
    "\n",
    "# plt.style.use('seaborn')\n",
    "\n",
    "plt.plot(range(1,20), trainloss, label = 'Training')\n",
    "plt.plot(range(1,20), testloss, label = 'Validation')\n",
    "\n",
    "\n",
    "plt.ylabel('Loss')\n",
    "plt.xlabel('Epoch')\n",
    "\n",
    "\n",
    "plt.title('Learning Curve Graph of ResNet152', fontsize = 18, y = 1.03)\n",
    "plt.legend()\n",
    "plt.ylim(0,35)\n",
    "\n",
    "plt.savefig('drive/MyDrive/Colab Notebooks/books_read.png')"
   ]
  },
  {
   "cell_type": "markdown",
   "metadata": {
    "id": "IJePsT4QUDdh"
   },
   "source": [
    "## Save result on Actual Val Data to csv File"
   ]
  },
  {
   "cell_type": "code",
   "execution_count": null,
   "metadata": {
    "id": "fxAQKYA4UJvj"
   },
   "outputs": [],
   "source": [
    "df = pd.DataFrame(columns=['image_name','output'])\n",
    "for batch_idx, sample_batched in enumerate(test_dataloader):\n",
    "    image= sample_batched['image'].to(device)\n",
    "    img_name= sample_batched['img_name']\n",
    "    output = model_conv[0](image).type(torch.LongTensor).reshape(-1)\n",
    "    img_name = np.array(img_name).reshape(output.shape[0],1)\n",
    "    o = output.cpu().data.numpy().reshape(output.shape[0],1)\n",
    "    a = np.concatenate((img_name,o),axis=1)\n",
    "    df = df.append(pd.DataFrame(a, columns=df.columns), ignore_index=True)\n",
    "    "
   ]
  },
  {
   "cell_type": "code",
   "execution_count": null,
   "metadata": {
    "id": "hxgoKACBUL_7"
   },
   "outputs": [],
   "source": [
    "#Extracting image name from the image path\n",
    "df['image_name']=df['image_name'].str.split(\"/\").str[-1]\n",
    "\n",
    "# sort the image results by the image names\n",
    "df = df.sort_values('image_name')"
   ]
  },
  {
   "cell_type": "code",
   "execution_count": null,
   "metadata": {
    "id": "wuzUlqPkpxtD"
   },
   "outputs": [],
   "source": [
    "df.to_csv('drive/MyDrive/Colab Notebooks/predictions.csv', index=False, header=False)"
   ]
  },
  {
   "cell_type": "markdown",
   "metadata": {},
   "source": [
    "## Emply the ensemble methods by averaging the results obtained by several models"
   ]
  },
  {
   "cell_type": "code",
   "execution_count": null,
   "metadata": {},
   "outputs": [],
   "source": [
    "# Read the results from other prediction result\n",
    "\n",
    "other_results = 'Predictions/predictions-ResNet 50 + Normalized.csv'\n",
    "\n",
    "col_Names=[\"image_name\", \"output\"]\n",
    "\n",
    "df2 = pd.read_csv(other_results,names=col_Names)\n",
    "\n",
    "# calculate the average value of predictions\n",
    "# round up the averaged value\n",
    "averaged_pred = ((df2+df)/2).round()\n",
    "\n",
    "df2['output'] = averaged_pred\n",
    "\n",
    "df.to_csv('drive/MyDrive/Colab Notebooks/predictions_new.csv', index=False, header=False)"
   ]
  },
  {
   "cell_type": "code",
   "execution_count": null,
   "metadata": {},
   "outputs": [],
   "source": []
  },
  {
   "cell_type": "markdown",
   "metadata": {
    "id": "iMJCiCG-M1Ut"
   },
   "source": [
    "## Points to note:\n",
    "\n",
    "General Rules: Participants should estimate the percentage of Covid-19 infection from each slice using Machine Learning. **Only ImageNet's pre-trained models and Lung Nodule Segmentation models are allowed**. The use of external data or other pre-trained models is not allowed. The models must be trained using the training data and evaluated using the validation data.\n",
    "\n",
    "##Things you can try:\n",
    "\n",
    "- The dataset is not as big and especially negative covid images are very few.\n",
    "It would be better to use k-fold cross validation rather than conventional splitting.\n",
    "- How would you split image splices from the same patient subject into train & val set?\n",
    "- How would the information on the patient (subject #) help your prediction?\n",
    "- What kind of preprocessing/data augmentation method help your model? What kind of methods would actually make your model perform worse?\n",
    "- What other different CNN architectures could you explore to acheive lower MAE?\n",
    "- Explore different optimizers, loss combinations, etc\n",
    "- Explore different regularization methods\n",
    "\n",
    "This is no way an exhaustive list. You might get a better idea by reading relevant research papers. Good luck!"
   ]
  },
  {
   "cell_type": "code",
   "execution_count": null,
   "metadata": {
    "id": "fVwLtw1piBcj"
   },
   "outputs": [],
   "source": []
  },
  {
   "cell_type": "markdown",
   "metadata": {},
   "source": [
    "## Wasted Method"
   ]
  },
  {
   "cell_type": "code",
   "execution_count": null,
   "metadata": {},
   "outputs": [],
   "source": [
    "# Use albumentation to modify the input images\n",
    "# But this method is not useful\n",
    "\n",
    "class args:\n",
    "    batch_size = 8\n",
    "    #image_size = 384\n",
    "    image_size=384\n",
    "    epochs =20\n",
    "    fold=0\n",
    "\n",
    "class CovidDataset:\n",
    "    def __init__(self,image_paths,targets,augmentations):\n",
    "        self.image_paths = image_paths\n",
    "        self.targets = targets\n",
    "        self.augmentations = augmentations\n",
    "    \n",
    "    def __len__(self):\n",
    "        return len(self.image_paths)\n",
    "    \n",
    "    def __getitem__(self,item):\n",
    "        image = cv2.imread(self.image_paths[item])\n",
    "        image = cv2.cvtColor(image, cv2.COLOR_BGR2RGB)\n",
    "        \n",
    "        if self.augmentations is not  None:\n",
    "            augmented = self.augmentations(image=image)\n",
    "            image = augmented[\"image\"]\n",
    "        \n",
    "        image = np.transpose(image,(2,0,1)).astype(np.float32)\n",
    "        \n",
    "        targets = self.targets[item]\n",
    "        \n",
    "        return {\n",
    "            \"image\":torch.tensor(image,dtype=torch.float),\n",
    "            \"targets\":torch.tensor(targets,dtype=torch.float)\n",
    "        }\n",
    "\n",
    "class CovidModel(tez.Model):\n",
    "    def __init__(self):\n",
    "        super().__init__()\n",
    "        self.model = timm.create_model(\"swin_large_patch4_window12_384_in22k\",pretrained=True,in_chans=3)\n",
    "        self.model.head = nn.Linear(self.model.head.in_features,128)\n",
    "        \n",
    "        self.dropout = nn.Dropout(0.1)\n",
    "        self.dense1 = nn.Linear(128,64)\n",
    "        self.dense2 = nn.Linear(64, 1)\n",
    "        self.step_scheduler_after = \"epoch\"\n",
    "    \n",
    "    def monitor_metrics(self,outputs,targets):\n",
    "        outputs = outputs.cpu().detach().numpy()\n",
    "        targets = targets.cpu().detach().numpy()\n",
    "        rmse = metrics.mean_squared_error(targets,outputs,squared=False)\n",
    "        return {\"rmse\":rmse}\n",
    "    \n",
    "    def fetch_scheduler(self):\n",
    "        sch = torch.optim.lr_scheduler.CosineAnnealingWarmRestarts(\n",
    "            self.optimizer,T_0 =10,T_mult=1, eta_min=1e-6,last_epoch=-1\n",
    "               )\n",
    "        return  sch \n",
    "    \n",
    "    def fetch_optimizer(self):\n",
    "        opt = torch.optim.Adam(self.parameters(),lr=1e-4)\n",
    "        return opt\n",
    "    \n",
    "    def forward(self,image,targets=None):\n",
    "        x = self.model(image)\n",
    "        x = self.dropout(x)\n",
    "        x = self.dense1(x)\n",
    "        x = self.dense2(x)\n",
    "        \n",
    "        \n",
    "        if targets is not None:\n",
    "            loss = nn.MSELoss()(x,targets.view(-1,1))\n",
    "            metrics = self.monitor_metrics(x,targets)\n",
    "            return x,loss,metrics\n",
    "        \n",
    "        return x,0,{}\n",
    "    \n",
    "train_aug = albumentations.Compose([\n",
    "    albumentations.Resize(args.image_size,args.image_size,p=1),\n",
    "    albumentations.HueSaturationValue(\n",
    "        hue_shift_limit=0.2,\n",
    "        sat_shift_limit =0.2,\n",
    "        val_shift_limit=0.2,\n",
    "        p=0.5\n",
    "    ),\n",
    "    albumentations.RandomBrightnessContrast(\n",
    "        brightness_limit=(-0.1,0.1),\n",
    "        contrast_limit =(-0.1,0.1),p=0.5\n",
    "    ),\n",
    "\n",
    "    albumentations.Normalize(\n",
    "        mean=[0.485, 0.456, 0.406],\n",
    "        std=[0.229, 0.224, 0.225],\n",
    "        max_pixel_value=255.0,\n",
    "        p=1.0\n",
    "    ),\n",
    "],p=1.0)\n",
    "\n",
    "valid_aug  = albumentations.Compose([\n",
    "    \n",
    "    albumentations.Resize(args.image_size,args.image_size,p=1),\n",
    "    albumentations.Normalize(\n",
    "        mean=[0.485, 0.456, 0.406],\n",
    "        std=[0.229, 0.224, 0.225],\n",
    "        max_pixel_value=255.0,\n",
    "        p=1.0,\n",
    "    \n",
    "    ),\n",
    "],p=1.0)\n",
    "\n",
    "train_dataset = CovidDataset(\n",
    "    image_paths = train_img_paths,\n",
    "    targets= df_train.per.values,\n",
    "    augmentations=train_aug\n",
    ")\n",
    "valid_dataset = CovidDataset(\n",
    "    image_paths = valid_img_paths,\n",
    "    targets = df_valid.per.values,\n",
    "    augmentations=valid_aug \n",
    ")"
   ]
  },
  {
   "cell_type": "code",
   "execution_count": null,
   "metadata": {},
   "outputs": [],
   "source": []
  },
  {
   "cell_type": "code",
   "execution_count": null,
   "metadata": {},
   "outputs": [],
   "source": []
  },
  {
   "cell_type": "code",
   "execution_count": null,
   "metadata": {},
   "outputs": [],
   "source": []
  }
 ],
 "metadata": {
  "accelerator": "GPU",
  "colab": {
   "collapsed_sections": [],
   "name": "covid19_code_final.ipynb",
   "provenance": []
  },
  "kernelspec": {
   "display_name": "Python 3",
   "language": "python",
   "name": "python3"
  },
  "language_info": {
   "codemirror_mode": {
    "name": "ipython",
    "version": 3
   },
   "file_extension": ".py",
   "mimetype": "text/x-python",
   "name": "python",
   "nbconvert_exporter": "python",
   "pygments_lexer": "ipython3",
   "version": "3.8.8"
  },
  "widgets": {
   "application/vnd.jupyter.widget-state+json": {
    "0f0569e5d4a04757bb4a877e82d44427": {
     "model_module": "@jupyter-widgets/controls",
     "model_module_version": "1.5.0",
     "model_name": "HTMLModel",
     "state": {
      "_dom_classes": [],
      "_model_module": "@jupyter-widgets/controls",
      "_model_module_version": "1.5.0",
      "_model_name": "HTMLModel",
      "_view_count": null,
      "_view_module": "@jupyter-widgets/controls",
      "_view_module_version": "1.5.0",
      "_view_name": "HTMLView",
      "description": "",
      "description_tooltip": null,
      "layout": "IPY_MODEL_d86d9dd2e22948e6b90238116481d7c3",
      "placeholder": "​",
      "style": "IPY_MODEL_821277aee12f4d2c9797849e2212e239",
      "value": "100%"
     }
    },
    "1be38d850f504f6eaf9e541485560a97": {
     "model_module": "@jupyter-widgets/controls",
     "model_module_version": "1.5.0",
     "model_name": "FloatProgressModel",
     "state": {
      "_dom_classes": [],
      "_model_module": "@jupyter-widgets/controls",
      "_model_module_version": "1.5.0",
      "_model_name": "FloatProgressModel",
      "_view_count": null,
      "_view_module": "@jupyter-widgets/controls",
      "_view_module_version": "1.5.0",
      "_view_name": "ProgressView",
      "bar_style": "success",
      "description": "",
      "description_tooltip": null,
      "layout": "IPY_MODEL_2c7858bc13744ea88ea9e1db1b42b2a0",
      "max": 241530880,
      "min": 0,
      "orientation": "horizontal",
      "style": "IPY_MODEL_aaf6c2d523ec4d0ba42b6041bf8e3f39",
      "value": 241530880
     }
    },
    "2652670b3f3242b0a0d9bc74a1370d9e": {
     "model_module": "@jupyter-widgets/controls",
     "model_module_version": "1.5.0",
     "model_name": "HTMLModel",
     "state": {
      "_dom_classes": [],
      "_model_module": "@jupyter-widgets/controls",
      "_model_module_version": "1.5.0",
      "_model_name": "HTMLModel",
      "_view_count": null,
      "_view_module": "@jupyter-widgets/controls",
      "_view_module_version": "1.5.0",
      "_view_name": "HTMLView",
      "description": "",
      "description_tooltip": null,
      "layout": "IPY_MODEL_84a489962dbc4e7898ced9589abd8a15",
      "placeholder": "​",
      "style": "IPY_MODEL_5927d423e1f94270a0190583a83434ac",
      "value": " 230M/230M [00:04&lt;00:00, 51.6MB/s]"
     }
    },
    "2c7858bc13744ea88ea9e1db1b42b2a0": {
     "model_module": "@jupyter-widgets/base",
     "model_module_version": "1.2.0",
     "model_name": "LayoutModel",
     "state": {
      "_model_module": "@jupyter-widgets/base",
      "_model_module_version": "1.2.0",
      "_model_name": "LayoutModel",
      "_view_count": null,
      "_view_module": "@jupyter-widgets/base",
      "_view_module_version": "1.2.0",
      "_view_name": "LayoutView",
      "align_content": null,
      "align_items": null,
      "align_self": null,
      "border": null,
      "bottom": null,
      "display": null,
      "flex": null,
      "flex_flow": null,
      "grid_area": null,
      "grid_auto_columns": null,
      "grid_auto_flow": null,
      "grid_auto_rows": null,
      "grid_column": null,
      "grid_gap": null,
      "grid_row": null,
      "grid_template_areas": null,
      "grid_template_columns": null,
      "grid_template_rows": null,
      "height": null,
      "justify_content": null,
      "justify_items": null,
      "left": null,
      "margin": null,
      "max_height": null,
      "max_width": null,
      "min_height": null,
      "min_width": null,
      "object_fit": null,
      "object_position": null,
      "order": null,
      "overflow": null,
      "overflow_x": null,
      "overflow_y": null,
      "padding": null,
      "right": null,
      "top": null,
      "visibility": null,
      "width": null
     }
    },
    "5927d423e1f94270a0190583a83434ac": {
     "model_module": "@jupyter-widgets/controls",
     "model_module_version": "1.5.0",
     "model_name": "DescriptionStyleModel",
     "state": {
      "_model_module": "@jupyter-widgets/controls",
      "_model_module_version": "1.5.0",
      "_model_name": "DescriptionStyleModel",
      "_view_count": null,
      "_view_module": "@jupyter-widgets/base",
      "_view_module_version": "1.2.0",
      "_view_name": "StyleView",
      "description_width": ""
     }
    },
    "821277aee12f4d2c9797849e2212e239": {
     "model_module": "@jupyter-widgets/controls",
     "model_module_version": "1.5.0",
     "model_name": "DescriptionStyleModel",
     "state": {
      "_model_module": "@jupyter-widgets/controls",
      "_model_module_version": "1.5.0",
      "_model_name": "DescriptionStyleModel",
      "_view_count": null,
      "_view_module": "@jupyter-widgets/base",
      "_view_module_version": "1.2.0",
      "_view_name": "StyleView",
      "description_width": ""
     }
    },
    "84a489962dbc4e7898ced9589abd8a15": {
     "model_module": "@jupyter-widgets/base",
     "model_module_version": "1.2.0",
     "model_name": "LayoutModel",
     "state": {
      "_model_module": "@jupyter-widgets/base",
      "_model_module_version": "1.2.0",
      "_model_name": "LayoutModel",
      "_view_count": null,
      "_view_module": "@jupyter-widgets/base",
      "_view_module_version": "1.2.0",
      "_view_name": "LayoutView",
      "align_content": null,
      "align_items": null,
      "align_self": null,
      "border": null,
      "bottom": null,
      "display": null,
      "flex": null,
      "flex_flow": null,
      "grid_area": null,
      "grid_auto_columns": null,
      "grid_auto_flow": null,
      "grid_auto_rows": null,
      "grid_column": null,
      "grid_gap": null,
      "grid_row": null,
      "grid_template_areas": null,
      "grid_template_columns": null,
      "grid_template_rows": null,
      "height": null,
      "justify_content": null,
      "justify_items": null,
      "left": null,
      "margin": null,
      "max_height": null,
      "max_width": null,
      "min_height": null,
      "min_width": null,
      "object_fit": null,
      "object_position": null,
      "order": null,
      "overflow": null,
      "overflow_x": null,
      "overflow_y": null,
      "padding": null,
      "right": null,
      "top": null,
      "visibility": null,
      "width": null
     }
    },
    "aaf6c2d523ec4d0ba42b6041bf8e3f39": {
     "model_module": "@jupyter-widgets/controls",
     "model_module_version": "1.5.0",
     "model_name": "ProgressStyleModel",
     "state": {
      "_model_module": "@jupyter-widgets/controls",
      "_model_module_version": "1.5.0",
      "_model_name": "ProgressStyleModel",
      "_view_count": null,
      "_view_module": "@jupyter-widgets/base",
      "_view_module_version": "1.2.0",
      "_view_name": "StyleView",
      "bar_color": null,
      "description_width": ""
     }
    },
    "bd3c472cbdb54b3eab2c8ebe654186f3": {
     "model_module": "@jupyter-widgets/controls",
     "model_module_version": "1.5.0",
     "model_name": "HBoxModel",
     "state": {
      "_dom_classes": [],
      "_model_module": "@jupyter-widgets/controls",
      "_model_module_version": "1.5.0",
      "_model_name": "HBoxModel",
      "_view_count": null,
      "_view_module": "@jupyter-widgets/controls",
      "_view_module_version": "1.5.0",
      "_view_name": "HBoxView",
      "box_style": "",
      "children": [
       "IPY_MODEL_0f0569e5d4a04757bb4a877e82d44427",
       "IPY_MODEL_1be38d850f504f6eaf9e541485560a97",
       "IPY_MODEL_2652670b3f3242b0a0d9bc74a1370d9e"
      ],
      "layout": "IPY_MODEL_e045daeb62064a8d86597e4323beea02"
     }
    },
    "d86d9dd2e22948e6b90238116481d7c3": {
     "model_module": "@jupyter-widgets/base",
     "model_module_version": "1.2.0",
     "model_name": "LayoutModel",
     "state": {
      "_model_module": "@jupyter-widgets/base",
      "_model_module_version": "1.2.0",
      "_model_name": "LayoutModel",
      "_view_count": null,
      "_view_module": "@jupyter-widgets/base",
      "_view_module_version": "1.2.0",
      "_view_name": "LayoutView",
      "align_content": null,
      "align_items": null,
      "align_self": null,
      "border": null,
      "bottom": null,
      "display": null,
      "flex": null,
      "flex_flow": null,
      "grid_area": null,
      "grid_auto_columns": null,
      "grid_auto_flow": null,
      "grid_auto_rows": null,
      "grid_column": null,
      "grid_gap": null,
      "grid_row": null,
      "grid_template_areas": null,
      "grid_template_columns": null,
      "grid_template_rows": null,
      "height": null,
      "justify_content": null,
      "justify_items": null,
      "left": null,
      "margin": null,
      "max_height": null,
      "max_width": null,
      "min_height": null,
      "min_width": null,
      "object_fit": null,
      "object_position": null,
      "order": null,
      "overflow": null,
      "overflow_x": null,
      "overflow_y": null,
      "padding": null,
      "right": null,
      "top": null,
      "visibility": null,
      "width": null
     }
    },
    "e045daeb62064a8d86597e4323beea02": {
     "model_module": "@jupyter-widgets/base",
     "model_module_version": "1.2.0",
     "model_name": "LayoutModel",
     "state": {
      "_model_module": "@jupyter-widgets/base",
      "_model_module_version": "1.2.0",
      "_model_name": "LayoutModel",
      "_view_count": null,
      "_view_module": "@jupyter-widgets/base",
      "_view_module_version": "1.2.0",
      "_view_name": "LayoutView",
      "align_content": null,
      "align_items": null,
      "align_self": null,
      "border": null,
      "bottom": null,
      "display": null,
      "flex": null,
      "flex_flow": null,
      "grid_area": null,
      "grid_auto_columns": null,
      "grid_auto_flow": null,
      "grid_auto_rows": null,
      "grid_column": null,
      "grid_gap": null,
      "grid_row": null,
      "grid_template_areas": null,
      "grid_template_columns": null,
      "grid_template_rows": null,
      "height": null,
      "justify_content": null,
      "justify_items": null,
      "left": null,
      "margin": null,
      "max_height": null,
      "max_width": null,
      "min_height": null,
      "min_width": null,
      "object_fit": null,
      "object_position": null,
      "order": null,
      "overflow": null,
      "overflow_x": null,
      "overflow_y": null,
      "padding": null,
      "right": null,
      "top": null,
      "visibility": null,
      "width": null
     }
    }
   }
  }
 },
 "nbformat": 4,
 "nbformat_minor": 1
}
